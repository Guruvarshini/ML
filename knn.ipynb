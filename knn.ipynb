{
  "nbformat": 4,
  "nbformat_minor": 0,
  "metadata": {
    "colab": {
      "provenance": [],
      "authorship_tag": "ABX9TyP7Qu3czCdh2vORRLDDX6yr",
      "include_colab_link": true
    },
    "kernelspec": {
      "name": "python3",
      "display_name": "Python 3"
    },
    "language_info": {
      "name": "python"
    }
  },
  "cells": [
    {
      "cell_type": "markdown",
      "metadata": {
        "id": "view-in-github",
        "colab_type": "text"
      },
      "source": [
        "<a href=\"https://colab.research.google.com/github/Guruvarshini/VARSHA/blob/main/knn.ipynb\" target=\"_parent\"><img src=\"https://colab.research.google.com/assets/colab-badge.svg\" alt=\"Open In Colab\"/></a>"
      ]
    },
    {
      "cell_type": "code",
      "execution_count": null,
      "metadata": {
        "colab": {
          "base_uri": "https://localhost:8080/"
        },
        "id": "msq-UUKqEXnH",
        "outputId": "9e97547d-4aed-41e3-de30-7e989809aad8"
      },
      "outputs": [
        {
          "output_type": "stream",
          "name": "stdout",
          "text": [
            "[1 0 0 1 1 1 1 1 1 1 1 1 0 0 1 1 1 1 1 1 0 1 1 1 0 1 1 1 1 1 1 1 1 0 1 1 1\n",
            " 1 1 1 1]\n",
            "[[ 7  0]\n",
            " [ 0 34]]\n",
            "model accuracy is: 100.0 %\n"
          ]
        },
        {
          "output_type": "stream",
          "name": "stderr",
          "text": [
            "/usr/local/lib/python3.9/dist-packages/sklearn/neighbors/_classification.py:215: DataConversionWarning: A column-vector y was passed when a 1d array was expected. Please change the shape of y to (n_samples,), for example using ravel().\n",
            "  return self._fit(X, y)\n"
          ]
        }
      ],
      "source": [
        "import numpy as nm\n",
        "import matplotlib.pyplot as mtp\n",
        "import pandas as pd\n",
        "from sklearn.model_selection import train_test_split\n",
        "data_set= pd.read_csv('https://s3-api.us-geo.objectstorage.softlayer.net/cf-courses-data/CognitiveClass/DA0101EN/automobileEDA.csv')\n",
        "x=data_set[['wheel-base','length','compression-ratio','horsepower',  'peak-rpm', 'city-mpg', 'highway-mpg',    'price']]\n",
        "y=data_set[['gas']]\n",
        "x_train, x_test, y_train, y_test= train_test_split(x, y, test_size= 0.20, random_state=0)\n",
        "from sklearn.preprocessing import StandardScaler \n",
        "st_x= StandardScaler()\n",
        "x_train= st_x.fit_transform(x_train)\n",
        "x_test= st_x.transform(x_test)\n",
        "from sklearn.neighbors import KNeighborsClassifier \n",
        "knn=KNeighborsClassifier(n_neighbors=5,metric='euclidean')\n",
        "knn.fit(x_train,y_train) \n",
        "KNeighborsClassifier(algorithm='auto',leaf_size=30,metric='euclidean',metric_params=None)\n",
        "n_prediction=knn.predict(x_test)\n",
        "print(n_prediction)\n",
        "from sklearn.metrics import confusion_matrix\n",
        "cm = confusion_matrix(y_test,n_prediction)\n",
        "print(cm) \n",
        "accuracy = float(cm.diagonal().sum())/len(y_test)\n",
        "print('model accuracy is:',accuracy*100,'%')"
      ]
    },
    {
      "cell_type": "code",
      "source": [
        "print(data_set)"
      ],
      "metadata": {
        "colab": {
          "base_uri": "https://localhost:8080/"
        },
        "id": "qBFJdcp0_pYA",
        "outputId": "43d66173-e1cd-4511-d721-ed57d2d18a74"
      },
      "execution_count": null,
      "outputs": [
        {
          "output_type": "stream",
          "name": "stdout",
          "text": [
            "     symboling  normalized-losses         make aspiration num-of-doors  \\\n",
            "0            3                122  alfa-romero        std          two   \n",
            "1            3                122  alfa-romero        std          two   \n",
            "2            1                122  alfa-romero        std          two   \n",
            "3            2                164         audi        std         four   \n",
            "4            2                164         audi        std         four   \n",
            "..         ...                ...          ...        ...          ...   \n",
            "196         -1                 95        volvo        std         four   \n",
            "197         -1                 95        volvo      turbo         four   \n",
            "198         -1                 95        volvo        std         four   \n",
            "199         -1                 95        volvo      turbo         four   \n",
            "200         -1                 95        volvo      turbo         four   \n",
            "\n",
            "      body-style drive-wheels engine-location  wheel-base    length  ...  \\\n",
            "0    convertible          rwd           front        88.6  0.811148  ...   \n",
            "1    convertible          rwd           front        88.6  0.811148  ...   \n",
            "2      hatchback          rwd           front        94.5  0.822681  ...   \n",
            "3          sedan          fwd           front        99.8  0.848630  ...   \n",
            "4          sedan          4wd           front        99.4  0.848630  ...   \n",
            "..           ...          ...             ...         ...       ...  ...   \n",
            "196        sedan          rwd           front       109.1  0.907256  ...   \n",
            "197        sedan          rwd           front       109.1  0.907256  ...   \n",
            "198        sedan          rwd           front       109.1  0.907256  ...   \n",
            "199        sedan          rwd           front       109.1  0.907256  ...   \n",
            "200        sedan          rwd           front       109.1  0.907256  ...   \n",
            "\n",
            "     compression-ratio  horsepower  peak-rpm city-mpg highway-mpg    price  \\\n",
            "0                  9.0       111.0    5000.0       21          27  13495.0   \n",
            "1                  9.0       111.0    5000.0       21          27  16500.0   \n",
            "2                  9.0       154.0    5000.0       19          26  16500.0   \n",
            "3                 10.0       102.0    5500.0       24          30  13950.0   \n",
            "4                  8.0       115.0    5500.0       18          22  17450.0   \n",
            "..                 ...         ...       ...      ...         ...      ...   \n",
            "196                9.5       114.0    5400.0       23          28  16845.0   \n",
            "197                8.7       160.0    5300.0       19          25  19045.0   \n",
            "198                8.8       134.0    5500.0       18          23  21485.0   \n",
            "199               23.0       106.0    4800.0       26          27  22470.0   \n",
            "200                9.5       114.0    5400.0       19          25  22625.0   \n",
            "\n",
            "    city-L/100km  horsepower-binned  diesel  gas  \n",
            "0      11.190476             Medium       0    1  \n",
            "1      11.190476             Medium       0    1  \n",
            "2      12.368421             Medium       0    1  \n",
            "3       9.791667             Medium       0    1  \n",
            "4      13.055556             Medium       0    1  \n",
            "..           ...                ...     ...  ...  \n",
            "196    10.217391             Medium       0    1  \n",
            "197    12.368421               High       0    1  \n",
            "198    13.055556             Medium       0    1  \n",
            "199     9.038462             Medium       1    0  \n",
            "200    12.368421             Medium       0    1  \n",
            "\n",
            "[201 rows x 29 columns]\n"
          ]
        }
      ]
    }
  ]
}